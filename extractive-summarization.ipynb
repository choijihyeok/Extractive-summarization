{
 "cells": [
  {
   "cell_type": "code",
   "execution_count": 13,
   "id": "7acb43d8",
   "metadata": {},
   "outputs": [
    {
     "name": "stderr",
     "output_type": "stream",
     "text": [
      "[nltk_data] Downloading package stopwords to\n",
      "[nltk_data]     /Users/choijihyeok/nltk_data...\n",
      "[nltk_data]   Package stopwords is already up-to-date!\n"
     ]
    },
    {
     "name": "stdout",
     "output_type": "stream",
     "text": [
      "Requirement already satisfied: lxml in /Users/choijihyeok/miniforge3/envs/feedMeaJob/lib/python3.10/site-packages (4.9.1)\r\n"
     ]
    }
   ],
   "source": [
    "import numpy as np\n",
    "import pandas as pd\n",
    "import re\n",
    "import matplotlib.pyplot as plt\n",
    "import nltk\n",
    "nltk.download('stopwords')\n",
    "from nltk.corpus import stopwords\n",
    "!pip install lxml\n",
    "from bs4 import BeautifulSoup "
   ]
  },
  {
   "cell_type": "code",
   "execution_count": 14,
   "id": "d3674744",
   "metadata": {},
   "outputs": [],
   "source": [
    "from tensorflow.keras.preprocessing.text import Tokenizer\n",
    "from tensorflow.keras.preprocessing.sequence import pad_sequences\n",
    "import urllib.request"
   ]
  },
  {
   "cell_type": "code",
   "execution_count": 15,
   "id": "4923f645",
   "metadata": {},
   "outputs": [
    {
     "name": "stdout",
     "output_type": "stream",
     "text": [
      "Total amount of Reviews : 100000\n"
     ]
    }
   ],
   "source": [
    "# Save Reviews.csv to data\n",
    "# 10k rows\n",
    "data = pd.read_csv(\"./Reviews.csv\", nrows = 100000)\n",
    "print('Total amount of Reviews :', len(data))"
   ]
  },
  {
   "cell_type": "code",
   "execution_count": 16,
   "id": "01aa5aaa",
   "metadata": {},
   "outputs": [
    {
     "data": {
      "text/html": [
       "<div>\n",
       "<style scoped>\n",
       "    .dataframe tbody tr th:only-of-type {\n",
       "        vertical-align: middle;\n",
       "    }\n",
       "\n",
       "    .dataframe tbody tr th {\n",
       "        vertical-align: top;\n",
       "    }\n",
       "\n",
       "    .dataframe thead th {\n",
       "        text-align: right;\n",
       "    }\n",
       "</style>\n",
       "<table border=\"1\" class=\"dataframe\">\n",
       "  <thead>\n",
       "    <tr style=\"text-align: right;\">\n",
       "      <th></th>\n",
       "      <th>Id</th>\n",
       "      <th>ProductId</th>\n",
       "      <th>UserId</th>\n",
       "      <th>ProfileName</th>\n",
       "      <th>HelpfulnessNumerator</th>\n",
       "      <th>HelpfulnessDenominator</th>\n",
       "      <th>Score</th>\n",
       "      <th>Time</th>\n",
       "      <th>Summary</th>\n",
       "      <th>Text</th>\n",
       "    </tr>\n",
       "  </thead>\n",
       "  <tbody>\n",
       "    <tr>\n",
       "      <th>0</th>\n",
       "      <td>1</td>\n",
       "      <td>B001E4KFG0</td>\n",
       "      <td>A3SGXH7AUHU8GW</td>\n",
       "      <td>delmartian</td>\n",
       "      <td>1</td>\n",
       "      <td>1</td>\n",
       "      <td>5</td>\n",
       "      <td>1303862400</td>\n",
       "      <td>Good Quality Dog Food</td>\n",
       "      <td>I have bought several of the Vitality canned d...</td>\n",
       "    </tr>\n",
       "    <tr>\n",
       "      <th>1</th>\n",
       "      <td>2</td>\n",
       "      <td>B00813GRG4</td>\n",
       "      <td>A1D87F6ZCVE5NK</td>\n",
       "      <td>dll pa</td>\n",
       "      <td>0</td>\n",
       "      <td>0</td>\n",
       "      <td>1</td>\n",
       "      <td>1346976000</td>\n",
       "      <td>Not as Advertised</td>\n",
       "      <td>Product arrived labeled as Jumbo Salted Peanut...</td>\n",
       "    </tr>\n",
       "    <tr>\n",
       "      <th>2</th>\n",
       "      <td>3</td>\n",
       "      <td>B000LQOCH0</td>\n",
       "      <td>ABXLMWJIXXAIN</td>\n",
       "      <td>Natalia Corres \"Natalia Corres\"</td>\n",
       "      <td>1</td>\n",
       "      <td>1</td>\n",
       "      <td>4</td>\n",
       "      <td>1219017600</td>\n",
       "      <td>\"Delight\" says it all</td>\n",
       "      <td>This is a confection that has been around a fe...</td>\n",
       "    </tr>\n",
       "    <tr>\n",
       "      <th>3</th>\n",
       "      <td>4</td>\n",
       "      <td>B000UA0QIQ</td>\n",
       "      <td>A395BORC6FGVXV</td>\n",
       "      <td>Karl</td>\n",
       "      <td>3</td>\n",
       "      <td>3</td>\n",
       "      <td>2</td>\n",
       "      <td>1307923200</td>\n",
       "      <td>Cough Medicine</td>\n",
       "      <td>If you are looking for the secret ingredient i...</td>\n",
       "    </tr>\n",
       "    <tr>\n",
       "      <th>4</th>\n",
       "      <td>5</td>\n",
       "      <td>B006K2ZZ7K</td>\n",
       "      <td>A1UQRSCLF8GW1T</td>\n",
       "      <td>Michael D. Bigham \"M. Wassir\"</td>\n",
       "      <td>0</td>\n",
       "      <td>0</td>\n",
       "      <td>5</td>\n",
       "      <td>1350777600</td>\n",
       "      <td>Great taffy</td>\n",
       "      <td>Great taffy at a great price.  There was a wid...</td>\n",
       "    </tr>\n",
       "  </tbody>\n",
       "</table>\n",
       "</div>"
      ],
      "text/plain": [
       "   Id   ProductId          UserId                      ProfileName  \\\n",
       "0   1  B001E4KFG0  A3SGXH7AUHU8GW                       delmartian   \n",
       "1   2  B00813GRG4  A1D87F6ZCVE5NK                           dll pa   \n",
       "2   3  B000LQOCH0   ABXLMWJIXXAIN  Natalia Corres \"Natalia Corres\"   \n",
       "3   4  B000UA0QIQ  A395BORC6FGVXV                             Karl   \n",
       "4   5  B006K2ZZ7K  A1UQRSCLF8GW1T    Michael D. Bigham \"M. Wassir\"   \n",
       "\n",
       "   HelpfulnessNumerator  HelpfulnessDenominator  Score        Time  \\\n",
       "0                     1                       1      5  1303862400   \n",
       "1                     0                       0      1  1346976000   \n",
       "2                     1                       1      4  1219017600   \n",
       "3                     3                       3      2  1307923200   \n",
       "4                     0                       0      5  1350777600   \n",
       "\n",
       "                 Summary                                               Text  \n",
       "0  Good Quality Dog Food  I have bought several of the Vitality canned d...  \n",
       "1      Not as Advertised  Product arrived labeled as Jumbo Salted Peanut...  \n",
       "2  \"Delight\" says it all  This is a confection that has been around a fe...  \n",
       "3         Cough Medicine  If you are looking for the secret ingredient i...  \n",
       "4            Great taffy  Great taffy at a great price.  There was a wid...  "
      ]
     },
     "execution_count": 16,
     "metadata": {},
     "output_type": "execute_result"
    }
   ],
   "source": [
    "data.head()"
   ]
  },
  {
   "cell_type": "code",
   "execution_count": 17,
   "id": "3805fa50",
   "metadata": {},
   "outputs": [
    {
     "data": {
      "text/html": [
       "<div>\n",
       "<style scoped>\n",
       "    .dataframe tbody tr th:only-of-type {\n",
       "        vertical-align: middle;\n",
       "    }\n",
       "\n",
       "    .dataframe tbody tr th {\n",
       "        vertical-align: top;\n",
       "    }\n",
       "\n",
       "    .dataframe thead th {\n",
       "        text-align: right;\n",
       "    }\n",
       "</style>\n",
       "<table border=\"1\" class=\"dataframe\">\n",
       "  <thead>\n",
       "    <tr style=\"text-align: right;\">\n",
       "      <th></th>\n",
       "      <th>Text</th>\n",
       "      <th>Summary</th>\n",
       "    </tr>\n",
       "  </thead>\n",
       "  <tbody>\n",
       "    <tr>\n",
       "      <th>0</th>\n",
       "      <td>I have bought several of the Vitality canned d...</td>\n",
       "      <td>Good Quality Dog Food</td>\n",
       "    </tr>\n",
       "    <tr>\n",
       "      <th>1</th>\n",
       "      <td>Product arrived labeled as Jumbo Salted Peanut...</td>\n",
       "      <td>Not as Advertised</td>\n",
       "    </tr>\n",
       "    <tr>\n",
       "      <th>2</th>\n",
       "      <td>This is a confection that has been around a fe...</td>\n",
       "      <td>\"Delight\" says it all</td>\n",
       "    </tr>\n",
       "    <tr>\n",
       "      <th>3</th>\n",
       "      <td>If you are looking for the secret ingredient i...</td>\n",
       "      <td>Cough Medicine</td>\n",
       "    </tr>\n",
       "    <tr>\n",
       "      <th>4</th>\n",
       "      <td>Great taffy at a great price.  There was a wid...</td>\n",
       "      <td>Great taffy</td>\n",
       "    </tr>\n",
       "  </tbody>\n",
       "</table>\n",
       "</div>"
      ],
      "text/plain": [
       "                                                Text                Summary\n",
       "0  I have bought several of the Vitality canned d...  Good Quality Dog Food\n",
       "1  Product arrived labeled as Jumbo Salted Peanut...      Not as Advertised\n",
       "2  This is a confection that has been around a fe...  \"Delight\" says it all\n",
       "3  If you are looking for the secret ingredient i...         Cough Medicine\n",
       "4  Great taffy at a great price.  There was a wid...            Great taffy"
      ]
     },
     "execution_count": 17,
     "metadata": {},
     "output_type": "execute_result"
    }
   ],
   "source": [
    "# save text and summary column\n",
    "data = data[['Text', 'Summary']]\n",
    "data.head()"
   ]
  },
  {
   "cell_type": "code",
   "execution_count": 18,
   "id": "6e4271b2",
   "metadata": {},
   "outputs": [
    {
     "data": {
      "text/html": [
       "<div>\n",
       "<style scoped>\n",
       "    .dataframe tbody tr th:only-of-type {\n",
       "        vertical-align: middle;\n",
       "    }\n",
       "\n",
       "    .dataframe tbody tr th {\n",
       "        vertical-align: top;\n",
       "    }\n",
       "\n",
       "    .dataframe thead th {\n",
       "        text-align: right;\n",
       "    }\n",
       "</style>\n",
       "<table border=\"1\" class=\"dataframe\">\n",
       "  <thead>\n",
       "    <tr style=\"text-align: right;\">\n",
       "      <th></th>\n",
       "      <th>Text</th>\n",
       "      <th>Summary</th>\n",
       "    </tr>\n",
       "  </thead>\n",
       "  <tbody>\n",
       "    <tr>\n",
       "      <th>15291</th>\n",
       "      <td>These weren't awful, they just weren't good. T...</td>\n",
       "      <td>Not so great</td>\n",
       "    </tr>\n",
       "    <tr>\n",
       "      <th>50249</th>\n",
       "      <td>Great texture and balance of sweet to butter i...</td>\n",
       "      <td>Very Good!</td>\n",
       "    </tr>\n",
       "    <tr>\n",
       "      <th>83031</th>\n",
       "      <td>When I first got these K-cups I looked at them...</td>\n",
       "      <td>ONE OF THE BEST</td>\n",
       "    </tr>\n",
       "    <tr>\n",
       "      <th>2115</th>\n",
       "      <td>You can purchase this for $35.00 including fre...</td>\n",
       "      <td>Much Cheaper through Penta's Website</td>\n",
       "    </tr>\n",
       "    <tr>\n",
       "      <th>72927</th>\n",
       "      <td>This is a great tea for autumn drinking.  Real...</td>\n",
       "      <td>Wonderful autumn tea</td>\n",
       "    </tr>\n",
       "    <tr>\n",
       "      <th>97953</th>\n",
       "      <td>This has change and now contains about 25% or ...</td>\n",
       "      <td>Good Trailmix</td>\n",
       "    </tr>\n",
       "    <tr>\n",
       "      <th>44641</th>\n",
       "      <td>These almonds are one of my favorite snacks. I...</td>\n",
       "      <td>Yummilicious Chocolate-y Goodness</td>\n",
       "    </tr>\n",
       "    <tr>\n",
       "      <th>21437</th>\n",
       "      <td>Between 11:30 and noon every day, my dog start...</td>\n",
       "      <td>Greenies...yum!!!</td>\n",
       "    </tr>\n",
       "    <tr>\n",
       "      <th>3798</th>\n",
       "      <td>I tried this coffee two years ago and found it...</td>\n",
       "      <td>My favorite cofee</td>\n",
       "    </tr>\n",
       "    <tr>\n",
       "      <th>51064</th>\n",
       "      <td>Well, I was envious when I gave this my dog.  ...</td>\n",
       "      <td>yum</td>\n",
       "    </tr>\n",
       "  </tbody>\n",
       "</table>\n",
       "</div>"
      ],
      "text/plain": [
       "                                                    Text  \\\n",
       "15291  These weren't awful, they just weren't good. T...   \n",
       "50249  Great texture and balance of sweet to butter i...   \n",
       "83031  When I first got these K-cups I looked at them...   \n",
       "2115   You can purchase this for $35.00 including fre...   \n",
       "72927  This is a great tea for autumn drinking.  Real...   \n",
       "97953  This has change and now contains about 25% or ...   \n",
       "44641  These almonds are one of my favorite snacks. I...   \n",
       "21437  Between 11:30 and noon every day, my dog start...   \n",
       "3798   I tried this coffee two years ago and found it...   \n",
       "51064  Well, I was envious when I gave this my dog.  ...   \n",
       "\n",
       "                                    Summary  \n",
       "15291                          Not so great  \n",
       "50249                            Very Good!  \n",
       "83031                       ONE OF THE BEST  \n",
       "2115   Much Cheaper through Penta's Website  \n",
       "72927                  Wonderful autumn tea  \n",
       "97953                         Good Trailmix  \n",
       "44641     Yummilicious Chocolate-y Goodness  \n",
       "21437                     Greenies...yum!!!  \n",
       "3798                      My favorite cofee  \n",
       "51064                                   yum  "
      ]
     },
     "execution_count": 18,
     "metadata": {},
     "output_type": "execute_result"
    }
   ],
   "source": [
    "# print random sample\n",
    "# summary is short compared to Text\n",
    "data.sample(10)"
   ]
  },
  {
   "cell_type": "code",
   "execution_count": 19,
   "id": "26e335e8",
   "metadata": {},
   "outputs": [
    {
     "name": "stdout",
     "output_type": "stream",
     "text": [
      "the amount of samples except duplication in Text column: 88426\n",
      "the amount of samples except duplication in Summary column: 72348\n"
     ]
    }
   ],
   "source": [
    "# data preprocessing\n",
    "print('the amount of samples except duplication in Text column:', data['Text'].nunique())\n",
    "print('the amount of samples except duplication in Summary column:', data['Summary'].nunique())"
   ]
  },
  {
   "cell_type": "code",
   "execution_count": 20,
   "id": "3f1b22f9",
   "metadata": {},
   "outputs": [
    {
     "name": "stdout",
     "output_type": "stream",
     "text": [
      "total amount of sample: 88426\n"
     ]
    }
   ],
   "source": [
    "# remove duplication data in Text column\n",
    "data.drop_duplicates(subset=['Text'], inplace=True)\n",
    "print('total amount of sample:', len(data))"
   ]
  },
  {
   "cell_type": "code",
   "execution_count": 21,
   "id": "633117be",
   "metadata": {},
   "outputs": [
    {
     "name": "stdout",
     "output_type": "stream",
     "text": [
      "Text       0\n",
      "Summary    1\n",
      "dtype: int64\n"
     ]
    }
   ],
   "source": [
    "# check null data\n",
    "print(data.isnull().sum())"
   ]
  },
  {
   "cell_type": "code",
   "execution_count": 22,
   "id": "0b72ff79",
   "metadata": {},
   "outputs": [
    {
     "name": "stdout",
     "output_type": "stream",
     "text": [
      "total amount of sample: 88425\n"
     ]
    }
   ],
   "source": [
    "# remove null data\n",
    "data.dropna(axis=0, inplace=True)\n",
    "print('total amount of sample:', len(data))"
   ]
  },
  {
   "cell_type": "code",
   "execution_count": 23,
   "id": "a16edf39",
   "metadata": {},
   "outputs": [],
   "source": [
    "# https://stackoverflow.com/questions/19790188/expanding-english-language-contractions-in-python\n",
    "# word regularation dictionary\n",
    "contractions = {\"ain't\": \"is not\", \"aren't\": \"are not\",\"can't\": \"cannot\", \"'cause\": \"because\", \"could've\": \"could have\", \"couldn't\": \"could not\", \"didn't\": \"did not\",  \"doesn't\": \"does not\", \"don't\": \"do not\", \"hadn't\": \"had not\", \"hasn't\": \"has not\", \"haven't\": \"have not\", \"he'd\": \"he would\",\"he'll\": \"he will\", \"he's\": \"he is\", \"how'd\": \"how did\", \"how'd'y\": \"how do you\", \"how'll\": \"how will\", \"how's\": \"how is\", \"I'd\": \"I would\", \"I'd've\": \"I would have\", \"I'll\": \"I will\", \"I'll've\": \"I will have\",\"I'm\": \"I am\", \"I've\": \"I have\", \"i'd\": \"i would\", \"i'd've\": \"i would have\", \"i'll\": \"i will\",  \"i'll've\": \"i will have\",\"i'm\": \"i am\", \"i've\": \"i have\", \"isn't\": \"is not\", \"it'd\": \"it would\", \"it'd've\": \"it would have\", \"it'll\": \"it will\", \"it'll've\": \"it will have\",\"it's\": \"it is\", \"let's\": \"let us\", \"ma'am\": \"madam\", \"mayn't\": \"may not\", \"might've\": \"might have\",\"mightn't\": \"might not\",\"mightn't've\": \"might not have\", \"must've\": \"must have\", \"mustn't\": \"must not\", \"mustn't've\": \"must not have\", \"needn't\": \"need not\", \"needn't've\": \"need not have\",\"o'clock\": \"of the clock\", \"oughtn't\": \"ought not\", \"oughtn't've\": \"ought not have\", \"shan't\": \"shall not\", \"sha'n't\": \"shall not\", \"shan't've\": \"shall not have\", \"she'd\": \"she would\", \"she'd've\": \"she would have\", \"she'll\": \"she will\", \"she'll've\": \"she will have\", \"she's\": \"she is\", \"should've\": \"should have\", \"shouldn't\": \"should not\", \"shouldn't've\": \"should not have\", \"so've\": \"so have\",\"so's\": \"so as\", \"this's\": \"this is\",\"that'd\": \"that would\", \"that'd've\": \"that would have\", \"that's\": \"that is\", \"there'd\": \"there would\", \"there'd've\": \"there would have\", \"there's\": \"there is\", \"here's\": \"here is\",\"they'd\": \"they would\", \"they'd've\": \"they would have\", \"they'll\": \"they will\", \"they'll've\": \"they will have\", \"they're\": \"they are\", \"they've\": \"they have\", \"to've\": \"to have\", \"wasn't\": \"was not\", \"we'd\": \"we would\", \"we'd've\": \"we would have\", \"we'll\": \"we will\", \"we'll've\": \"we will have\", \"we're\": \"we are\", \"we've\": \"we have\", \"weren't\": \"were not\", \"what'll\": \"what will\", \"what'll've\": \"what will have\", \"what're\": \"what are\", \"what's\": \"what is\", \"what've\": \"what have\", \"when's\": \"when is\", \"when've\": \"when have\", \"where'd\": \"where did\", \"where's\": \"where is\", \"where've\": \"where have\", \"who'll\": \"who will\", \"who'll've\": \"who will have\", \"who's\": \"who is\", \"who've\": \"who have\", \"why's\": \"why is\", \"why've\": \"why have\", \"will've\": \"will have\", \"won't\": \"will not\", \"won't've\": \"will not have\", \"would've\": \"would have\", \"wouldn't\": \"would not\", \"wouldn't've\": \"would not have\", \"y'all\": \"you all\", \"y'all'd\": \"you all would\",\"y'all'd've\": \"you all would have\",\"y'all're\": \"you all are\",\"y'all've\": \"you all have\", \"you'd\": \"you would\", \"you'd've\": \"you would have\", \"you'll\": \"you will\", \"you'll've\": \"you will have\", \"you're\": \"you are\", \"you've\": \"you have\"}"
   ]
  },
  {
   "cell_type": "code",
   "execution_count": 24,
   "id": "abffc265",
   "metadata": {},
   "outputs": [
    {
     "name": "stdout",
     "output_type": "stream",
     "text": [
      "the amount of deused word: 179\n",
      "{'or', 'above', 'ain', 'yours', 'should', 'here', 'hadn', \"hasn't\", 'was', 'had', 'don', 'under', 'after', 'them', 'all', 'being', 'mightn', 'the', 'of', 'there', \"doesn't\", 'didn', 'have', 'needn', 't', 'an', 'o', 'my', \"shan't\", 'am', 'ma', 'weren', \"couldn't\", 'so', 'few', 'your', 'shan', 'ours', 'between', 'into', \"weren't\", 'these', 'she', \"you'd\", 'about', 'i', 'themselves', 'very', 'in', 'were', 'doing', \"it's\", 'than', 'other', 'too', 'wouldn', 'which', 'during', 'why', \"haven't\", 'and', 'from', 'him', 'won', 'its', 'because', 'y', 'as', 'are', 'hers', 'then', 'any', 'over', 've', 'his', 'hasn', 'myself', 'same', 'their', 'down', 'mustn', 'yourself', 'wasn', 'again', 'more', 'm', 'by', 'how', 'himself', 'once', 's', \"don't\", 'for', \"aren't\", 'those', \"needn't\", 'until', 'each', 'nor', 'aren', 'it', 're', \"wasn't\", 'if', 'both', 'will', 'haven', \"you'll\", 'does', 'when', 'only', 'just', 'below', 'but', 'll', 'ourselves', \"should've\", \"she's\", 'they', 'yourselves', 'while', 'do', 'a', 'now', 'own', 'been', 'having', 'our', \"mustn't\", 'be', 'against', 'such', 'with', 'not', 'he', 'herself', 'on', 'most', 'through', 'no', 'this', 'can', 'you', \"mightn't\", 'shouldn', 'where', 'doesn', 'whom', 'me', 'we', 'couldn', 'who', 'before', \"you're\", \"wouldn't\", 'd', 'up', 'some', 'that', 'out', 'further', 'isn', 'has', \"isn't\", \"won't\", 'her', \"you've\", \"that'll\", \"shouldn't\", 'did', 'to', 'what', \"didn't\", \"hadn't\", 'off', 'itself', 'theirs', 'at', 'is'}\n"
     ]
    }
   ],
   "source": [
    "# deused word\n",
    "stop_words = set(stopwords.words('english'))\n",
    "print('the amount of deused word:', len(stop_words))\n",
    "print(stop_words)"
   ]
  },
  {
   "cell_type": "code",
   "execution_count": 25,
   "id": "bd433b19",
   "metadata": {},
   "outputs": [],
   "source": [
    "# design the preprocessing function\n",
    "def preprocess_sentence(sentence, remove_stopwords = True):\n",
    "    # lower case text\n",
    "    sentence = sentence.lower()\n",
    "    # remove html tag\n",
    "    sentence = BeautifulSoup(sentence, \"lxml\").text\n",
    "    # remove broket closed string\n",
    "    sentence = re.sub(r'\\([^)]*\\)', '', sentence)\n",
    "    # remove double quotation mark\n",
    "    sentence = re.sub('\"', '', sentence)\n",
    "    # abbreviation normalization\n",
    "    sentence = ' '.join([contractions[t] if t in contractions else t for t in sentence.split(\" \")])\n",
    "    # remove possessive class\n",
    "    sentence = re.sub(r\"'s\\b\", \"\", sentence)\n",
    "    # change number and special characters to space\n",
    "    sentence = re.sub(\"[^a-zA-Z]\", \" \", sentence)\n",
    "    # change the amount of m if m is over 2\n",
    "    sentence = re.sub('[m]{2,}', 'mm', sentence)\n",
    "    \n",
    "    # remove deused word in Text\n",
    "    if remove_stopwords:\n",
    "        tokens = ' '.join(word for word in sentence.split() if not word in stop_words if len(word) > 1)\n",
    "    # not remove deused word in Sumamry\n",
    "    else:\n",
    "        tokens = ' '.join(word for word in sentence.split() if len(word) > 1)\n",
    "    return tokens"
   ]
  },
  {
   "cell_type": "code",
   "execution_count": 27,
   "id": "d9a525d4",
   "metadata": {},
   "outputs": [
    {
     "name": "stdout",
     "output_type": "stream",
     "text": [
      "everything bought great infact ordered twice third ordered wasfor mother father\n",
      "great way to start the day\n"
     ]
    }
   ],
   "source": [
    "# look at the result with sample\n",
    "temp_text = 'Everything I bought was great, infact I ordered twice and the third ordered was<br />for my mother and father.'\n",
    "temp_summary = 'Great way to start (or finish) the day!!!'\n",
    "print(preprocess_sentence(temp_text))\n",
    "print(preprocess_sentence(temp_summary, 0))"
   ]
  },
  {
   "cell_type": "code",
   "execution_count": null,
   "id": "1caa5852",
   "metadata": {},
   "outputs": [],
   "source": []
  }
 ],
 "metadata": {
  "kernelspec": {
   "display_name": "Python 3 (ipykernel)",
   "language": "python",
   "name": "python3"
  },
  "language_info": {
   "codemirror_mode": {
    "name": "ipython",
    "version": 3
   },
   "file_extension": ".py",
   "mimetype": "text/x-python",
   "name": "python",
   "nbconvert_exporter": "python",
   "pygments_lexer": "ipython3",
   "version": "3.10.5"
  }
 },
 "nbformat": 4,
 "nbformat_minor": 5
}
